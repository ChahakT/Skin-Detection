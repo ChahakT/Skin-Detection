{
 "cells": [
  {
   "cell_type": "code",
   "execution_count": 1,
   "metadata": {
    "collapsed": false
   },
   "outputs": [
    {
     "name": "stderr",
     "output_type": "stream",
     "text": [
      "/home/chahak/anaconda2/lib/python2.7/site-packages/matplotlib/font_manager.py:273: UserWarning: Matplotlib is building the font cache using fc-list. This may take a moment.\n",
      "  warnings.warn('Matplotlib is building the font cache using fc-list. This may take a moment.')\n"
     ]
    }
   ],
   "source": [
    "import cv2\n",
    "from matplotlib import pyplot as plt\n"
   ]
  },
  {
   "cell_type": "code",
   "execution_count": 2,
   "metadata": {
    "collapsed": false
   },
   "outputs": [
    {
     "name": "stdout",
     "output_type": "stream",
     "text": [
      "1\n",
      "2\n",
      "3\n",
      "4\n",
      "5\n",
      "6\n",
      "7\n",
      "8\n",
      "9\n",
      "10\n",
      "11\n",
      "12\n",
      "13\n",
      "14\n",
      "801\n",
      "802\n",
      "803\n",
      "804\n",
      "805\n",
      "806\n",
      "807\n"
     ]
    }
   ],
   "source": [
    "train_s=[]\n",
    "train_ns=[]\n",
    "for n in range(1,15):\n",
    "    print n\n",
    "    path='/home/chahak/Documents/ec8thsem/dip_lab/skin_data/ORI/train1/img ('+str(n)+').jpg'\n",
    "    path1='/home/chahak/Documents/ec8thsem/dip_lab/skin_data/GT/train1/img ('+str(n)+').jpg'\n",
    "    Img = cv2.imread(path,cv2.IMREAD_COLOR)\n",
    "    Img_gt = cv2.imread(path1,cv2.IMREAD_GRAYSCALE)\n",
    "    ret,thresh1 = cv2.threshold(Img_gt,10,255,cv2.THRESH_BINARY)\n",
    "    height, width, channels =Img.shape\n",
    "    '''\n",
    "    print height\n",
    "    print width\n",
    "    print channels\n",
    "    count1 =0;\n",
    "    for i  in range(0,height):\n",
    "        for j in range(0,width):\n",
    "            if (thresh1[i][j]==255):\n",
    "                count1+=1\n",
    "    print count1\n",
    "\n",
    "    p=Img[i][j].tolist()\n",
    "    p.append(0)\n",
    "    print p\n",
    "    print thresh1[0][0]\n",
    "    '''\n",
    "\n",
    "    for i in range(0,height):\n",
    "        for j in range(0, width):\n",
    "            p=Img[i][j].tolist()\n",
    "\n",
    "            if(thresh1[i][j]==0):\n",
    "                p.append(0)\n",
    "                train_ns.append(p)\n",
    "            else :\n",
    "                p.append(1)\n",
    "                train_s.append(p)  \n",
    "        \n",
    "test_s=[]\n",
    "test_ns=[]\n",
    "for n in range(1,8):\n",
    "    t=800+n\n",
    "    print t\n",
    "    path=\"/home/chahak/Documents/ec8thsem/dip_lab/skin_data/ORI/test1/img (\"+str(t)+\").jpg\"\n",
    "    path1=\"/home/chahak/Documents/ec8thsem/dip_lab/skin_data/GT/test1/img (\"+str(t)+\").jpg\"\n",
    "    Img = cv2.imread(path,cv2.IMREAD_COLOR)\n",
    "    Img_gt = cv2.imread(path1,cv2.IMREAD_GRAYSCALE)\n",
    "    ret,thresh1 = cv2.threshold(Img_gt,10,255,cv2.THRESH_BINARY)\n",
    "    height, width, channels =Img.shape\n",
    "    '''\n",
    "    print height\n",
    "    print width\n",
    "    print channels\n",
    "    count1 =0;\n",
    "    for i  in range(0,height):\n",
    "        for j in range(0,width):\n",
    "            if (thresh1[i][j]==255):\n",
    "                count1+=1\n",
    "    print count1\n",
    "\n",
    "    p=Img[i][j].tolist()\n",
    "    p.append(0)\n",
    "    print p\n",
    "    print thresh1[0][0]\n",
    "    '''\n",
    "\n",
    "    for i in range(0,height):\n",
    "        for j in range(0, width):\n",
    "            p=Img[i][j].tolist()\n",
    "\n",
    "            if(thresh1[i][j]==0):\n",
    "                p.append(0)\n",
    "                test_ns.append(p)\n",
    "            else :\n",
    "                p.append(1)\n",
    "                test_s.append(p)  \n"
   ]
  },
  {
   "cell_type": "code",
   "execution_count": 3,
   "metadata": {
    "collapsed": false
   },
   "outputs": [
    {
     "name": "stdout",
     "output_type": "stream",
     "text": [
      "1833804\n",
      "3671220\n",
      "934855\n",
      "1817657\n"
     ]
    }
   ],
   "source": [
    "print len(train_s)\n",
    "print len(train_ns)\n",
    "print len(test_s)\n",
    "print len(test_ns)\n"
   ]
  },
  {
   "cell_type": "code",
   "execution_count": 4,
   "metadata": {
    "collapsed": false
   },
   "outputs": [],
   "source": [
    "train=train_s+train_ns\n",
    "test= test_s+test_ns"
   ]
  },
  {
   "cell_type": "code",
   "execution_count": 5,
   "metadata": {
    "collapsed": true
   },
   "outputs": [],
   "source": [
    "import math\n",
    "def mean(numbers):\n",
    "    return sum(numbers)/float(len(numbers))\n",
    " \n",
    "def stdev(numbers):\n",
    "    avg = mean(numbers)\n",
    "    variance = sum([pow(x-avg,2) for x in numbers])/float(len(numbers)-1)\n",
    "    return math.sqrt(variance)"
   ]
  },
  {
   "cell_type": "code",
   "execution_count": 6,
   "metadata": {
    "collapsed": false
   },
   "outputs": [],
   "source": [
    "def summarize(dataset):\n",
    "    summaries = [(mean(attribute), stdev(attribute)) for attribute in zip(*dataset)]\n",
    "    del summaries[-1]\n",
    "    return summaries   "
   ]
  },
  {
   "cell_type": "code",
   "execution_count": 7,
   "metadata": {
    "collapsed": false
   },
   "outputs": [],
   "source": [
    "import math\n",
    "def calculateProbability(x, mean, stdev):\n",
    "\texponent = math.exp(-(math.pow(x-mean,2)/(2*math.pow(stdev,2))))\n",
    "\treturn (1 / (math.sqrt(2*math.pi) * stdev)) * exponent"
   ]
  },
  {
   "cell_type": "code",
   "execution_count": 8,
   "metadata": {
    "collapsed": false
   },
   "outputs": [],
   "source": [
    "summaries = {}\n",
    "summaries[0]= summarize(train_s)\n",
    "summaries[1]= summarize(train_ns)"
   ]
  },
  {
   "cell_type": "code",
   "execution_count": 9,
   "metadata": {
    "collapsed": false
   },
   "outputs": [
    {
     "name": "stdout",
     "output_type": "stream",
     "text": [
      "{0: [(64.44041293398858, 19.12737294097143), (86.61888402468311, 28.1578127383106), (109.79516949466792, 35.15702713924388)], 1: [(133.28336847151627, 93.596431827828), (141.54255615299547, 94.75394501825636), (134.49416188623945, 91.66248596080374)]}\n"
     ]
    }
   ],
   "source": [
    "print summaries\n",
    "    "
   ]
  },
  {
   "cell_type": "code",
   "execution_count": 10,
   "metadata": {
    "collapsed": false
   },
   "outputs": [
    {
     "name": "stdout",
     "output_type": "stream",
     "text": [
      "0.333114624023\n",
      "0.666885375977\n"
     ]
    }
   ],
   "source": [
    "pr_s= float(len(train_s))/len(train)\n",
    "pr_ns= float(len(train_ns))/len(train)\n",
    "print pr_s\n",
    "print pr_ns"
   ]
  },
  {
   "cell_type": "code",
   "execution_count": 35,
   "metadata": {
    "collapsed": false
   },
   "outputs": [],
   "source": [
    "pr=[pr_s,pr_ns]\n"
   ]
  },
  {
   "cell_type": "code",
   "execution_count": 36,
   "metadata": {
    "collapsed": false
   },
   "outputs": [],
   "source": [
    "def calculateClassProbabilities(summaries, inputVector):\n",
    "    probabilities = []\n",
    "    for classValue, classSummaries in summaries.iteritems():\n",
    "        prob = pr[classValue]\n",
    "        for i in range(len(classSummaries)):\n",
    "            mean, stdev = classSummaries[i]\n",
    "            x = inputVector[i]\n",
    "            prob *= calculateProbability(x, mean, stdev)\n",
    "        probabilities.append (prob)\n",
    "    return probabilities\n",
    "\n",
    "def predict(summaries, inputVector):\n",
    "    probabilities = calculateClassProbabilities(summaries, inputVector)\n",
    "    if (probabilities[0]>probabilities[1]):\n",
    "        classl= 1\n",
    "    else:\n",
    "        classl= 0\n",
    "    return classl\n",
    "\n",
    "def getPredictions(summaries, test):\n",
    "    predictions = []\n",
    "    for i in range(len(test)):\n",
    "        result = predict(summaries, test[i])\n",
    "        predictions.append(result)\n",
    "    return predictions\n",
    "\n",
    "def getAccuracy(test, predictions):\n",
    "    correct = 0\n",
    "    for x in range(len(test)):\n",
    "        if test[x][-1] == predictions[x]:\n",
    "            correct += 1\n",
    "    return (correct/float(len(test))) * 100.0\n",
    "\n"
   ]
  },
  {
   "cell_type": "code",
   "execution_count": 53,
   "metadata": {
    "collapsed": false
   },
   "outputs": [],
   "source": [
    "predictions = getPredictions(summaries,[test[0],test[1]])\n",
    "\n",
    "\n",
    "\n"
   ]
  },
  {
   "cell_type": "code",
   "execution_count": 37,
   "metadata": {
    "collapsed": false
   },
   "outputs": [
    {
     "name": "stdout",
     "output_type": "stream",
     "text": [
      "Accuracy: 73.8410586403%\n"
     ]
    }
   ],
   "source": [
    "predictions = getPredictions(summaries, test)\n",
    "accuracy = getAccuracy(test, predictions)\n",
    "print('Accuracy: {0}%').format(accuracy)"
   ]
  },
  {
   "cell_type": "code",
   "execution_count": 38,
   "metadata": {
    "collapsed": true
   },
   "outputs": [],
   "source": [
    "import cv2\n",
    "import matplotlib as plt"
   ]
  },
  {
   "cell_type": "code",
   "execution_count": 32,
   "metadata": {
    "collapsed": false
   },
   "outputs": [
    {
     "name": "stdout",
     "output_type": "stream",
     "text": [
      "[[253, 254, 250, 0], [254, 255, 250, 0], [255, 255, 250, 0], [255, 255, 250, 0], [255, 255, 247, 0], [254, 255, 246, 0], [253, 254, 245, 0], [255, 255, 247, 0], [254, 255, 246, 0]]\n"
     ]
    }
   ],
   "source": [
    "print test_ns[1:10]"
   ]
  },
  {
   "cell_type": "code",
   "execution_count": 43,
   "metadata": {
    "collapsed": true
   },
   "outputs": [],
   "source": [
    "Img= cv2.imread(\"/home/chahak/Documents/ec8thsem/dip_lab/skin_data/ORI/train/img (18).jpg\")"
   ]
  },
  {
   "cell_type": "code",
   "execution_count": 44,
   "metadata": {
    "collapsed": false
   },
   "outputs": [
    {
     "name": "stdout",
     "output_type": "stream",
     "text": [
      "768\n",
      "512\n",
      "3\n",
      "215\n"
     ]
    }
   ],
   "source": [
    "height, width, channels =Img.shape\n",
    "print height\n",
    "print width\n",
    "print channels\n",
    "print Img[0,0][0]"
   ]
  },
  {
   "cell_type": "code",
   "execution_count": 45,
   "metadata": {
    "collapsed": false
   },
   "outputs": [],
   "source": [
    "test_new=[]\n",
    "for i in range(height):\n",
    "    for j in range(width):\n",
    "        test_new.append([Img[i,j][0],Img[i,j][1],Img[i,j][2]])\n",
    "        \n",
    "        \n",
    "predictions1 = getPredictions(summaries, test_new)\n"
   ]
  },
  {
   "cell_type": "code",
   "execution_count": 24,
   "metadata": {
    "collapsed": false
   },
   "outputs": [],
   "source": [
    "import random\n",
    "def splitDataset(dataset, splitRatio):\n",
    "    trainSize = int(len(dataset) * splitRatio)\n",
    "    trainSet = []\n",
    "    copy = list(dataset)\n",
    "    while len(trainSet) < trainSize:\n",
    "        index = random.randrange(len(copy))\n",
    "        trainSet.append(copy.pop(index))\n",
    "    return [trainSet, copy]\n",
    "\n",
    "splitRatio = 0.67\n",
    "train_s, test_s = splitDataset(skin, splitRatio)\n",
    "train_ns, test_ns = splitDataset(nonskin, splitRatio)"
   ]
  },
  {
   "cell_type": "code",
   "execution_count": 46,
   "metadata": {
    "collapsed": false
   },
   "outputs": [],
   "source": [
    "arr=np.asarray(predictions1)\n",
    "new_arr= np.zeros((height,width), dtype=np.uint8)"
   ]
  },
  {
   "cell_type": "code",
   "execution_count": 47,
   "metadata": {
    "collapsed": false
   },
   "outputs": [
    {
     "name": "stdout",
     "output_type": "stream",
     "text": [
      "393216\n"
     ]
    }
   ],
   "source": [
    "i=0\n",
    "for k in range(height):\n",
    "    for l in range(width):\n",
    "        if arr[i]==1:\n",
    "            new_arr[k][l]=255\n",
    "        else:\n",
    "            new_arr[k][l]=0\n",
    "        i+=1\n",
    "  \n",
    "\n",
    "print i"
   ]
  },
  {
   "cell_type": "code",
   "execution_count": 48,
   "metadata": {
    "collapsed": true
   },
   "outputs": [],
   "source": [
    "from matplotlib import pyplot as plt"
   ]
  },
  {
   "cell_type": "code",
   "execution_count": 49,
   "metadata": {
    "collapsed": false
   },
   "outputs": [],
   "source": [
    "plt.imshow(new_arr, cmap='gray', interpolation='nearest')\n",
    "plt.show()"
   ]
  },
  {
   "cell_type": "code",
   "execution_count": 30,
   "metadata": {
    "collapsed": false
   },
   "outputs": [
    {
     "name": "stdout",
     "output_type": "stream",
     "text": [
      "164188\n"
     ]
    }
   ],
   "source": [
    "print int(len(list3)*splitRatio)"
   ]
  },
  {
   "cell_type": "code",
   "execution_count": 31,
   "metadata": {
    "collapsed": true
   },
   "outputs": [],
   "source": [
    "import math\n",
    "def mean(numbers):\n",
    "\treturn sum(numbers)/float(len(numbers))\n",
    " \n",
    "def stdev(numbers):\n",
    "\tavg = mean(numbers)\n",
    "\tvariance = sum([pow(x-avg,2) for x in numbers])/float(len(numbers)-1)\n",
    "\treturn math.sqrt(variance)"
   ]
  },
  {
   "cell_type": "code",
   "execution_count": 32,
   "metadata": {
    "collapsed": true
   },
   "outputs": [],
   "source": [
    "def summarize(dataset):\n",
    "\tsummaries = [(mean(attribute), stdev(attribute)) for attribute in zip(*dataset)]\n",
    "\tdel summaries[-1]\n",
    "\treturn summaries"
   ]
  },
  {
   "cell_type": "code",
   "execution_count": 33,
   "metadata": {
    "collapsed": true
   },
   "outputs": [],
   "source": [
    "msd_s=summarize(train_s)\n",
    "msd_ns=summarize(train_ns)"
   ]
  },
  {
   "cell_type": "code",
   "execution_count": 34,
   "metadata": {
    "collapsed": false
   },
   "outputs": [
    {
     "name": "stdout",
     "output_type": "stream",
     "text": [
      "Skin attributes = [(113.9072633895818, 41.635680308508036), (146.69220836390315, 35.83359024847608), (204.054497432135, 37.645959725906174)] Non-skin attributes = [(128.10666195277915, 66.26097299021326), (128.92167517215938, 64.23579977028844), (102.03017400393507, 64.05060572862251)]\n"
     ]
    }
   ],
   "source": [
    "print ('Skin attributes = {0} Non-skin attributes = {1}').format(msd_s,msd_ns)"
   ]
  },
  {
   "cell_type": "code",
   "execution_count": 35,
   "metadata": {
    "collapsed": true
   },
   "outputs": [],
   "source": [
    "\n",
    "import math\n",
    "def calculateProbability(x, mean, stdev):\n",
    "\texponent = math.exp(-(math.pow(x-mean,2)/(2*math.pow(stdev,2))))\n",
    "\treturn (1 / (math.sqrt(2*math.pi) * stdev)) * exponent"
   ]
  },
  {
   "cell_type": "code",
   "execution_count": 38,
   "metadata": {
    "collapsed": true
   },
   "outputs": [],
   "source": [
    "\n",
    "\t\n",
    "def getAccuracy(test, predictions):\n",
    "\tcorrect = 0\n",
    "\tfor x in range(len(test)):\n",
    "\t\tif test[x][-1] == predictions[x]:\n",
    "\t\t\tcorrect += 1\n",
    "\treturn (correct/float(len(test))) * 100.0"
   ]
  },
  {
   "cell_type": "code",
   "execution_count": 37,
   "metadata": {
    "collapsed": true
   },
   "outputs": [],
   "source": [
    "def getPredictions(summaries, test):\n",
    "\tpredictions = []\n",
    "\tfor i in range(len(test)):\n",
    "\t\tresult = predict(summaries, testSet[i])\n",
    "\t\tpredictions.append(result)\n",
    "\treturn predictions"
   ]
  },
  {
   "cell_type": "code",
   "execution_count": 41,
   "metadata": {
    "collapsed": true
   },
   "outputs": [],
   "source": [
    "summaries = {}\n",
    "summaries[0]= summarize(train_s)\n",
    "summaries[1]= summarize(train_ns)"
   ]
  },
  {
   "cell_type": "code",
   "execution_count": 42,
   "metadata": {
    "collapsed": false
   },
   "outputs": [
    {
     "name": "stdout",
     "output_type": "stream",
     "text": [
      "{0: [(113.9072633895818, 41.635680308508036), (146.69220836390315, 35.83359024847608), (204.054497432135, 37.645959725906174)], 1: [(128.10666195277915, 66.26097299021326), (128.92167517215938, 64.23579977028844), (102.03017400393507, 64.05060572862251)]}\n"
     ]
    }
   ],
   "source": [
    "print summaries\n"
   ]
  },
  {
   "cell_type": "code",
   "execution_count": 43,
   "metadata": {
    "collapsed": true
   },
   "outputs": [],
   "source": []
  },
  {
   "cell_type": "code",
   "execution_count": 76,
   "metadata": {
    "collapsed": false
   },
   "outputs": [],
   "source": [
    "def predict(summaries, inputVector):\n",
    "    probabilities = calculateClassProbabilities(summaries, inputVector)\n",
    "    if (probabilities[0]>probabilities[1]):\n",
    "        classl= 1\n",
    "    else:\n",
    "        classl=2\n",
    "    return classl"
   ]
  },
  {
   "cell_type": "code",
   "execution_count": 65,
   "metadata": {
    "collapsed": false
   },
   "outputs": [
    {
     "name": "stdout",
     "output_type": "stream",
     "text": [
      "0.207537746594\n"
     ]
    }
   ],
   "source": [
    "print float(len(train_s))/len(train)"
   ]
  },
  {
   "cell_type": "code",
   "execution_count": 66,
   "metadata": {
    "collapsed": false
   },
   "outputs": [
    {
     "name": "stdout",
     "output_type": "stream",
     "text": [
      "1.0\n"
     ]
    }
   ],
   "source": [
    "pr_s= float(len(train_s))/len(train)\n",
    "pr_ns= float(len(train_ns))/len(train)\n",
    "print pr_s+pr_ns\n"
   ]
  },
  {
   "cell_type": "code",
   "execution_count": 83,
   "metadata": {
    "collapsed": false
   },
   "outputs": [],
   "source": [
    "def calculateClassProbabilities(summaries, inputVector):\n",
    "    probabilities = []\n",
    "    for classValue, classSummaries in summaries.iteritems():\n",
    "        prob = pr[classValue]\n",
    "        for i in range(len(classSummaries)):\n",
    "            mean, stdev = classSummaries[i]\n",
    "            x = inputVector[i]\n",
    "            prob *= calculateProbability(x, mean, stdev)\n",
    "        probabilities.append (prob)\n",
    "    return probabilities"
   ]
  },
  {
   "cell_type": "code",
   "execution_count": 58,
   "metadata": {
    "collapsed": true
   },
   "outputs": [],
   "source": [
    "pr=[pr_s,pr_ns]"
   ]
  },
  {
   "cell_type": "code",
   "execution_count": 59,
   "metadata": {
    "collapsed": false
   },
   "outputs": [
    {
     "name": "stdout",
     "output_type": "stream",
     "text": [
      "[0.2075377465938229, 0.7924622534061772]\n"
     ]
    }
   ],
   "source": [
    "print pr\n"
   ]
  },
  {
   "cell_type": "code",
   "execution_count": 1,
   "metadata": {
    "collapsed": false
   },
   "outputs": [
    {
     "ename": "NameError",
     "evalue": "name 'getPredictions' is not defined",
     "output_type": "error",
     "traceback": [
      "\u001b[1;31m---------------------------------------------------------------------------\u001b[0m",
      "\u001b[1;31mNameError\u001b[0m                                 Traceback (most recent call last)",
      "\u001b[1;32m<ipython-input-1-cb75afb2e59c>\u001b[0m in \u001b[0;36m<module>\u001b[1;34m()\u001b[0m\n\u001b[1;32m----> 1\u001b[1;33m \u001b[0mpredictions\u001b[0m \u001b[1;33m=\u001b[0m \u001b[0mgetPredictions\u001b[0m\u001b[1;33m(\u001b[0m\u001b[0msummaries\u001b[0m\u001b[1;33m,\u001b[0m \u001b[0mtest\u001b[0m\u001b[1;33m)\u001b[0m\u001b[1;33m\u001b[0m\u001b[0m\n\u001b[0m\u001b[0;32m      2\u001b[0m \u001b[0maccuracy\u001b[0m \u001b[1;33m=\u001b[0m \u001b[0mgetAccuracy\u001b[0m\u001b[1;33m(\u001b[0m\u001b[0mtest\u001b[0m\u001b[1;33m,\u001b[0m \u001b[0mpredictions\u001b[0m\u001b[1;33m)\u001b[0m\u001b[1;33m\u001b[0m\u001b[0m\n\u001b[0;32m      3\u001b[0m \u001b[1;32mprint\u001b[0m\u001b[1;33m(\u001b[0m\u001b[1;34m'Accuracy: {0}%'\u001b[0m\u001b[1;33m)\u001b[0m\u001b[1;33m.\u001b[0m\u001b[0mformat\u001b[0m\u001b[1;33m(\u001b[0m\u001b[0maccuracy\u001b[0m\u001b[1;33m)\u001b[0m\u001b[1;33m\u001b[0m\u001b[0m\n",
      "\u001b[1;31mNameError\u001b[0m: name 'getPredictions' is not defined"
     ]
    }
   ],
   "source": [
    "predictions = getPredictions(summaries, test)\n",
    "accuracy = getAccuracy(test, predictions)\n",
    "print('Accuracy: {0}%').format(accuracy)"
   ]
  },
  {
   "cell_type": "code",
   "execution_count": 2,
   "metadata": {
    "collapsed": false
   },
   "outputs": [
    {
     "ename": "NameError",
     "evalue": "name 'getPredictions' is not defined",
     "output_type": "error",
     "traceback": [
      "\u001b[1;31m---------------------------------------------------------------------------\u001b[0m",
      "\u001b[1;31mNameError\u001b[0m                                 Traceback (most recent call last)",
      "\u001b[1;32m<ipython-input-2-4cfe64a49a5e>\u001b[0m in \u001b[0;36m<module>\u001b[1;34m()\u001b[0m\n\u001b[1;32m----> 1\u001b[1;33m \u001b[0mpredictions\u001b[0m \u001b[1;33m=\u001b[0m \u001b[0mgetPredictions\u001b[0m\u001b[1;33m(\u001b[0m\u001b[0msummaries\u001b[0m\u001b[1;33m,\u001b[0m\u001b[1;33m[\u001b[0m\u001b[0mtest\u001b[0m\u001b[1;33m[\u001b[0m\u001b[1;36m0\u001b[0m\u001b[1;33m]\u001b[0m\u001b[1;33m,\u001b[0m\u001b[0mtest\u001b[0m\u001b[1;33m[\u001b[0m\u001b[1;36m1\u001b[0m\u001b[1;33m]\u001b[0m\u001b[1;33m]\u001b[0m\u001b[1;33m)\u001b[0m\u001b[1;33m\u001b[0m\u001b[0m\n\u001b[0m",
      "\u001b[1;31mNameError\u001b[0m: name 'getPredictions' is not defined"
     ]
    }
   ],
   "source": [
    "predictions = getPredictions(summaries,[test[0],test[1]])"
   ]
  },
  {
   "cell_type": "code",
   "execution_count": 73,
   "metadata": {
    "collapsed": false
   },
   "outputs": [
    {
     "name": "stdout",
     "output_type": "stream",
     "text": [
      "83\n"
     ]
    }
   ],
   "source": [
    "print test[0][1]"
   ]
  },
  {
   "cell_type": "code",
   "execution_count": 75,
   "metadata": {
    "collapsed": false
   },
   "outputs": [
    {
     "ename": "NameError",
     "evalue": "name 'probabilities' is not defined",
     "output_type": "error",
     "traceback": [
      "\u001b[1;31m---------------------------------------------------------------------------\u001b[0m",
      "\u001b[1;31mNameError\u001b[0m                                 Traceback (most recent call last)",
      "\u001b[1;32m<ipython-input-75-4e86acf6da3f>\u001b[0m in \u001b[0;36m<module>\u001b[1;34m()\u001b[0m\n\u001b[1;32m----> 1\u001b[1;33m \u001b[1;32mprint\u001b[0m \u001b[0mprobabilities\u001b[0m\u001b[1;33m\u001b[0m\u001b[0m\n\u001b[0m",
      "\u001b[1;31mNameError\u001b[0m: name 'probabilities' is not defined"
     ]
    }
   ],
   "source": [
    "print probabilities\n"
   ]
  },
  {
   "cell_type": "code",
   "execution_count": 78,
   "metadata": {
    "collapsed": false
   },
   "outputs": [
    {
     "name": "stdout",
     "output_type": "stream",
     "text": [
      "{0: [(113.9072633895818, 41.635680308508036), (146.69220836390315, 35.83359024847608), (204.054497432135, 37.645959725906174)], 1: [(128.10666195277915, 66.26097299021326), (128.92167517215938, 64.23579977028844), (102.03017400393507, 64.05060572862251)]}\n"
     ]
    }
   ],
   "source": [
    "print summaries\n"
   ]
  },
  {
   "cell_type": "code",
   "execution_count": null,
   "metadata": {
    "collapsed": true
   },
   "outputs": [],
   "source": []
  }
 ],
 "metadata": {
  "kernelspec": {
   "display_name": "Python [Root]",
   "language": "python",
   "name": "Python [Root]"
  },
  "language_info": {
   "codemirror_mode": {
    "name": "ipython",
    "version": 2
   },
   "file_extension": ".py",
   "mimetype": "text/x-python",
   "name": "python",
   "nbconvert_exporter": "python",
   "pygments_lexer": "ipython2",
   "version": "2.7.12"
  }
 },
 "nbformat": 4,
 "nbformat_minor": 0
}
